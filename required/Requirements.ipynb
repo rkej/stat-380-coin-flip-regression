{
 "cells": [
  {
   "cell_type": "code",
   "execution_count": 1,
   "metadata": {},
   "outputs": [
    {
     "name": "stdout",
     "output_type": "stream",
     "text": [
      "Requirement already satisfied: pandas in c:\\users\\iamrk\\appdata\\local\\programs\\python\\python37\\lib\\site-packages (0.25.1)\n",
      "Requirement already satisfied: python-dateutil>=2.6.1 in c:\\users\\iamrk\\appdata\\local\\programs\\python\\python37\\lib\\site-packages (from pandas) (2.8.0)\n",
      "Requirement already satisfied: numpy>=1.13.3 in c:\\users\\iamrk\\appdata\\local\\programs\\python\\python37\\lib\\site-packages (from pandas) (1.17.2)\n",
      "Requirement already satisfied: pytz>=2017.2 in c:\\users\\iamrk\\appdata\\local\\programs\\python\\python37\\lib\\site-packages (from pandas) (2019.2)\n",
      "Requirement already satisfied: six>=1.5 in c:\\users\\iamrk\\appdata\\local\\programs\\python\\python37\\lib\\site-packages (from python-dateutil>=2.6.1->pandas) (1.12.0)\n",
      "Requirement already satisfied: sklearn in c:\\users\\iamrk\\appdata\\local\\programs\\python\\python37\\lib\\site-packages (0.0)\n",
      "Requirement already satisfied: scikit-learn in c:\\users\\iamrk\\appdata\\local\\programs\\python\\python37\\lib\\site-packages (from sklearn) (0.22.1)\n",
      "Requirement already satisfied: numpy>=1.11.0 in c:\\users\\iamrk\\appdata\\local\\programs\\python\\python37\\lib\\site-packages (from scikit-learn->sklearn) (1.17.2)\n",
      "Requirement already satisfied: scipy>=0.17.0 in c:\\users\\iamrk\\appdata\\local\\programs\\python\\python37\\lib\\site-packages (from scikit-learn->sklearn) (1.3.1)\n",
      "Requirement already satisfied: joblib>=0.11 in c:\\users\\iamrk\\appdata\\local\\programs\\python\\python37\\lib\\site-packages (from scikit-learn->sklearn) (0.13.2)\n",
      "Requirement already satisfied: xgboost in c:\\users\\iamrk\\appdata\\local\\programs\\python\\python37\\lib\\site-packages (0.90)\n",
      "Requirement already satisfied: numpy in c:\\users\\iamrk\\appdata\\local\\programs\\python\\python37\\lib\\site-packages (from xgboost) (1.17.2)\n",
      "Requirement already satisfied: scipy in c:\\users\\iamrk\\appdata\\local\\programs\\python\\python37\\lib\\site-packages (from xgboost) (1.3.1)\n"
     ]
    }
   ],
   "source": [
    "#Author: Rahul Kejriwal\n",
    "!pip install pandas \n",
    "!pip install sklearn\n",
    "!pip install xgboost"
   ]
  }
 ],
 "metadata": {
  "kernelspec": {
   "display_name": "Python 3",
   "language": "python",
   "name": "python3"
  },
  "language_info": {
   "codemirror_mode": {
    "name": "ipython",
    "version": 3
   },
   "file_extension": ".py",
   "mimetype": "text/x-python",
   "name": "python",
   "nbconvert_exporter": "python",
   "pygments_lexer": "ipython3",
   "version": "3.7.4"
  }
 },
 "nbformat": 4,
 "nbformat_minor": 2
}
